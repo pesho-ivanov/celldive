{
 "cells": [
  {
   "cell_type": "code",
   "execution_count": 9,
   "metadata": {
    "scrolled": false
   },
   "outputs": [
    {
     "name": "stdout",
     "output_type": "stream",
     "text": [
      "Output dir: \u001b[34m/home/pisch/CellDive/out/20180215_16h41m05s_batches.tracer12353_DE.wilcox_limit_genes.10_filt.(cells_in_well1)_experiment.bipartite-tracer-mouse\u001b[0m\n",
      "\u001b[38;5;154m -----------------------------\u001b[0m\n",
      "Loading batch \u001b[38;5;154mtracer_12353\u001b[0m...\n",
      "\u001b[31mWarning: \u001b[0mOnly the first \u001b[31m10\u001b[0m genes are loaded.\n",
      "\u001b[31mWarning: \u001b[0mThe filtering options may be stupid!\n",
      "\u001b[31mWarning: \u001b[0m: No filtering! Please provide expression_threshold and min_cells_expressing_gene.\n",
      "Selecting the cells by: \u001b[34m(cells_in_well == 1)\u001b[0m\n",
      "\n",
      "\u001b[38;5;154mtracer_12353\u001b[0m: \u001b[34m50\u001b[0m cells\n",
      "\n",
      "Figure saved as \u001b[34mbipartite_tracer_12353+rainbow+.png\u001b[0m\n",
      "\n",
      "\u001b[31m   ------- [PDF] --------\u001b[0m\n",
      "Make a copy of the notebook...\n",
      "Collect \u001b[34m1\u001b[0m images and stamp them...\n",
      "Merge all images to one PDF [\u001b[34mbipartite_20180215_16h41m05s_batches.tracer12353_DE.wilcox_limit_genes.10_filt.(cells_in_well1).pdf\u001b[0m]...\n",
      "\u001b[31m   ------- [DONE] --------\u001b[0m\n"
     ]
    }
   ],
   "source": [
    "#%%prun\n",
    "####  THIS CELL CLEARS THE STATE  ####\n",
    "#%load_ext line_profiler\n",
    "#%install_ext https://raw.github.com/cpcloud/ipython-autotime/master/autotime.py\n",
    "%reset -f\n",
    "#%reload_ext autotime\n",
    "%reload_ext autoreload\n",
    "%autoreload 2\n",
    "%matplotlib notebook\n",
    "#%load_ext memory_profiler\n",
    "\n",
    "from imports import *\n",
    "run.init(\n",
    "    conf = {\n",
    "            'samples': Tracer_12353, # + Tracer_12392 + Tracer_15123 + Tracer_15126,\n",
    "            'experiment': 'bipartite-tracer-mouse',\n",
    "            'notebook': 'bioviz-bipartite-tracer-mouse.ipynb',\n",
    "            'input_files': { },\n",
    "            'nrows': 10,\n",
    "            'features': [ 'all' ], #features = [10, 'important', 'all'],\n",
    "            'diffexprs': ['wilcox'], # 'ks'\n",
    "            'interactive': False,\n",
    "            'clonality_stats': False,\n",
    "\n",
    "           #'stats': True,\n",
    "           #'vb_distr':      1\n",
    "           'filt_cells': {\n",
    "               'cells': '(cells_in_well == 1)',\n",
    "           #    'expressed_genes': 1500,\n",
    "           },\n",
    "           #'filt_genes': {\n",
    "           #    'expression_threshold': 2.5,\n",
    "           #    'min_cells_expressing_gene': 15,\n",
    "           #},\n",
    "           #'filt': {'cells': '(cells_in_well == 1) & (mapped > 500K)'},\n",
    "           #'normalize': 'byTotalSum', # 'bySpikeIn'\n",
    "           #'combine_batches': ['patient'],   # ['patient', 'pairs', 'all'],\n",
    "           #'scatter': { 'dim_reduct': ['PCA'],     # 't-SNE', 'MDS', \"ZIFA\"\n",
    "           #             'coloring': ['byClone'],\n",
    "           #             'coloring': ['bySample', 'byClone', 'bySampleAndClone'],\n",
    "           #           },\n",
    "           #'classifier':    0,\n",
    "        \n",
    "        #   'geneintersect': True,\n",
    "           #'quantheatmap':  {'coloring': ['byClone']},\n",
    "        \n",
    "           #'quantheatmap':  {'coloring': ['bySample', 'byClone', 'bySampleAndClone']},\n",
    "           #'bipartite':     ['clonal', 'sample', 'rainbow'],\n",
    "           'bipartite':     ['rainbow'],      # ['clonal', 'sample', 'rainbow'],\n",
    "#           'gsea': {'geneset': 'human_all_collections_lymphocytes_sept2017.gmt'},\n",
    "           #'gsea': {'geneset': 'c1.all.v6.0.symbols.gmt'}, # 'gseaftp.broadinstitute.org://pub/gsea/gene_sets_final/c5.cc.v3.1.symbols.gmt'},\n",
    "            'kernels': ['decision-tree', 'log-linear', 'rbf'],   # ['linear', 'lin', 'poly', 'rbf'],\n",
    "            'Cs': [1],\n",
    "            'gammas': [1],\n",
    "    },\n",
    ")"
   ]
  },
  {
   "cell_type": "code",
   "execution_count": 27,
   "metadata": {},
   "outputs": [
    {
     "data": {
      "text/plain": [
       "0.32203731562206683"
      ]
     },
     "execution_count": 27,
     "metadata": {},
     "output_type": "execute_result"
    }
   ],
   "source": [
    "from scipy.stats import fisher_exact\n",
    "oddsratio, pvalue = fisher_exact([[85,189], [71,128]]) # [[52, 64], [36, 38]])\n",
    "pvalue"
   ]
  },
  {
   "cell_type": "code",
   "execution_count": 1,
   "metadata": {
    "collapsed": true
   },
   "outputs": [
    {
     "data": {
      "text/plain": [
       "9"
      ]
     },
     "execution_count": 1,
     "metadata": {},
     "output_type": "execute_result"
    }
   ],
   "source": [
    "4+5"
   ]
  }
 ],
 "metadata": {
  "kernelspec": {
   "display_name": "Python 3",
   "language": "python",
   "name": "python3"
  },
  "language_info": {
   "codemirror_mode": {
    "name": "ipython",
    "version": 3
   },
   "file_extension": ".py",
   "mimetype": "text/x-python",
   "name": "python",
   "nbconvert_exporter": "python",
   "pygments_lexer": "ipython3",
   "version": "3.6.4"
  },
  "widgets": {
   "state": {
    "4b291cd54c6a42d3abc392eb90e8f995": {
     "views": [
      {
       "cell_index": 5
      }
     ]
    }
   },
   "version": "1.2.0"
  }
 },
 "nbformat": 4,
 "nbformat_minor": 2
}
