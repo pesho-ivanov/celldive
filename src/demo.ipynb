{
 "cells": [
  {
   "cell_type": "code",
   "execution_count": 3,
   "metadata": {
    "scrolled": false
   },
   "outputs": [
    {
     "name": "stdout",
     "output_type": "stream",
     "text": [
      "Output dir: \u001b[34m/home/pesho/repos/bioviz/out/20171025_14h42m04s_batches.FrKSE+FrKBL+FrKSL_DE.wilcox_limit_genes.1000_filt.(cells_in_well1)&(mapped>5K)_experiment.demo\u001b[0m\n",
      "\u001b[38;5;178m -----------------------------\u001b[0m\n",
      "Loading batch \u001b[38;5;178mFrK_SE\u001b[0m...\n",
      "\u001b[31mWarning: \u001b[0mOnly the first \u001b[31m1000\u001b[0m genes are loaded.\n",
      "Selecting the cells by: \u001b[34m(cells_in_well == 1) & (mapped > 5K)\u001b[0m\n",
      "\u001b[38;5;178mFrK_SE\u001b[0m (\u001b[34m74\u001b[0m cells x \u001b[34m677\u001b[0m genes)\n",
      "maximum size of nonclones for FrK_SE is \u001b[34m4\u001b[0m/\u001b[34m63\u001b[0m=\u001b[34m6.35%\u001b[0m (target: \u001b[34m5.00%\u001b[0m)\n",
      " \u001b[34m  8\u001b[0m noncl, \u001b[31m 49\u001b[0m cl:                                          \u001b[32m   \u001b[0m TRBV4-1_CCAAGCCCTCGGGGGGGATAAT_TRBJ1-6 --> 16 genes\n",
      "\u001b[38;5;91m -----------------------------\u001b[0m\n",
      "Loading batch \u001b[38;5;91mFrK_BL\u001b[0m...\n",
      "\u001b[31mWarning: \u001b[0mOnly the first \u001b[31m1000\u001b[0m genes are loaded.\n",
      "Selecting the cells by: \u001b[34m(cells_in_well == 1) & (mapped > 5K)\u001b[0m\n",
      "\u001b[38;5;91mFrK_BL\u001b[0m (\u001b[34m73\u001b[0m cells x \u001b[34m559\u001b[0m genes)\n",
      "maximum size of nonclones for FrK_BL is \u001b[34m3\u001b[0m/\u001b[34m54\u001b[0m=\u001b[34m5.56%\u001b[0m (target: \u001b[34m5.00%\u001b[0m)\n",
      " \u001b[34m 22\u001b[0m noncl, \u001b[31m 26\u001b[0m cl:                                          \u001b[32m   \u001b[0m TRBV4-1_CCAAGCCCTCGGGGGGGATAAT_TRBJ1-6 --> 3 genes\n",
      "\u001b[38;5;166m -----------------------------\u001b[0m\n",
      "Loading batch \u001b[38;5;166mFrK_SL\u001b[0m...\n",
      "\u001b[31mWarning: \u001b[0mOnly the first \u001b[31m1000\u001b[0m genes are loaded.\n",
      "Selecting the cells by: \u001b[34m(cells_in_well == 1) & (mapped > 5K)\u001b[0m\n",
      "\u001b[38;5;166mFrK_SL\u001b[0m (\u001b[34m76\u001b[0m cells x \u001b[34m688\u001b[0m genes)\n",
      "maximum size of nonclones for FrK_SL is \u001b[34m4\u001b[0m/\u001b[34m62\u001b[0m=\u001b[34m6.45%\u001b[0m (target: \u001b[34m5.00%\u001b[0m)\n",
      " \u001b[34m 25\u001b[0m noncl, \u001b[31m 30\u001b[0m cl:                                          \u001b[32m   \u001b[0m TRBV4-1_CCAAGCCCTCGGGGGGGATAAT_TRBJ1-6 --> 6 genes\n",
      "\n",
      "\u001b[38;5;178mFrK_SE\u001b[0m: \u001b[34m74\u001b[0m cells\n",
      "\n",
      "Selecting \u001b[34m16\u001b[0m genes (\u001b[34m0\u001b[0m not found) out of \u001b[34m677\u001b[0m\n",
      "Processing \u001b[34m74\u001b[0m cells with \u001b[34m16\u001b[0m dimensions...\n",
      "DimReduct (\u001b[32mMDS\u001b[0m) of \u001b[34m74\u001b[0m cells with \u001b[34m16\u001b[0m dimensions...\n",
      "Figure saved as \u001b[34mscatter_FrK_SE_byClone_MDS_TRBV4-1_CCAAGCCCTCGGGGGGGATAAT_TRBJ1-6_important.png\u001b[0m\n",
      "Processing \u001b[34m74\u001b[0m cells with \u001b[34m16\u001b[0m dimensions...\n",
      "DimReduct (\u001b[32mPCA\u001b[0m) of \u001b[34m74\u001b[0m cells with \u001b[34m16\u001b[0m dimensions...\n",
      "PCA explained variance:  \u001b[34m84\u001b[0m% \u001b[34m9\u001b[0m%\n",
      "Figure saved as \u001b[34mscatter_FrK_SE_byClone_PCA_TRBV4-1_CCAAGCCCTCGGGGGGGATAAT_TRBJ1-6_important.png\u001b[0m\n",
      "Figure saved as \u001b[34mbipartite_FrK_SE+clonal+TRBV4-1_CCAAGCCCTCGGGGGGGATAAT_TRBJ1-6.png\u001b[0m\n",
      "Figure saved as \u001b[34mbipartite_FrK_SE+rainbow+TRBV4-1_CCAAGCCCTCGGGGGGGATAAT_TRBJ1-6.png\u001b[0m\n",
      "QuantHeatmap is saved in \u001b[32m/home/pesho/repos/bioviz/out/20171025_14h42m04s_batches.FrKSE+FrKBL+FrKSL_DE.wilcox_limit_genes.1000_filt.(cells_in_well1)&(mapped>5K)_experiment.demo/heatmap/quantheatmap_FrK_SE_important(16)_TRBV4-1_CCAAGCCCTCGGGGGGGATAAT_TRBJ1-6_byClone.png\u001b[0m\n",
      "Figure saved as \u001b[34mvb_distr_FrK_SE.png\u001b[0m\n",
      "Writing \u001b[34m14\u001b[0m best genes for FrK_SE to genes_FrK_SE_TRBV4-1_CCAAGCCCTCGGGGGGGATAAT_TRBJ1-6.csv\n",
      "\n",
      "\u001b[38;5;91mFrK_BL\u001b[0m: \u001b[34m73\u001b[0m cells\n",
      "\n",
      "Selecting \u001b[34m3\u001b[0m genes (\u001b[34m0\u001b[0m not found) out of \u001b[34m559\u001b[0m\n",
      "Processing \u001b[34m73\u001b[0m cells with \u001b[34m3\u001b[0m dimensions...\n",
      "DimReduct (\u001b[32mMDS\u001b[0m) of \u001b[34m73\u001b[0m cells with \u001b[34m3\u001b[0m dimensions...\n",
      "Figure saved as \u001b[34mscatter_FrK_BL_byClone_MDS_TRBV4-1_CCAAGCCCTCGGGGGGGATAAT_TRBJ1-6_important.png\u001b[0m\n",
      "Processing \u001b[34m73\u001b[0m cells with \u001b[34m3\u001b[0m dimensions...\n",
      "DimReduct (\u001b[32mPCA\u001b[0m) of \u001b[34m73\u001b[0m cells with \u001b[34m3\u001b[0m dimensions...\n",
      "PCA explained variance:  \u001b[34m73\u001b[0m% \u001b[34m25\u001b[0m%\n",
      "Figure saved as \u001b[34mscatter_FrK_BL_byClone_PCA_TRBV4-1_CCAAGCCCTCGGGGGGGATAAT_TRBJ1-6_important.png\u001b[0m\n",
      "Figure saved as \u001b[34mbipartite_FrK_BL+clonal+TRBV4-1_CCAAGCCCTCGGGGGGGATAAT_TRBJ1-6.png\u001b[0m\n",
      "Figure saved as \u001b[34mbipartite_FrK_BL+rainbow+TRBV4-1_CCAAGCCCTCGGGGGGGATAAT_TRBJ1-6.png\u001b[0m\n",
      "QuantHeatmap is saved in \u001b[32m/home/pesho/repos/bioviz/out/20171025_14h42m04s_batches.FrKSE+FrKBL+FrKSL_DE.wilcox_limit_genes.1000_filt.(cells_in_well1)&(mapped>5K)_experiment.demo/heatmap/quantheatmap_FrK_BL_important(3)_TRBV4-1_CCAAGCCCTCGGGGGGGATAAT_TRBJ1-6_byClone.png\u001b[0m\n",
      "Figure saved as \u001b[34mvb_distr_FrK_BL.png\u001b[0m\n",
      "Writing \u001b[34m3\u001b[0m best genes for FrK_BL to genes_FrK_BL_TRBV4-1_CCAAGCCCTCGGGGGGGATAAT_TRBJ1-6.csv\n",
      "\n",
      "\u001b[38;5;166mFrK_SL\u001b[0m: \u001b[34m76\u001b[0m cells\n",
      "\n",
      "Selecting \u001b[34m6\u001b[0m genes (\u001b[34m0\u001b[0m not found) out of \u001b[34m688\u001b[0m\n",
      "Processing \u001b[34m76\u001b[0m cells with \u001b[34m6\u001b[0m dimensions...\n",
      "DimReduct (\u001b[32mMDS\u001b[0m) of \u001b[34m76\u001b[0m cells with \u001b[34m6\u001b[0m dimensions...\n",
      "Figure saved as \u001b[34mscatter_FrK_SL_byClone_MDS_TRBV4-1_CCAAGCCCTCGGGGGGGATAAT_TRBJ1-6_important.png\u001b[0m\n",
      "Processing \u001b[34m76\u001b[0m cells with \u001b[34m6\u001b[0m dimensions...\n",
      "DimReduct (\u001b[32mPCA\u001b[0m) of \u001b[34m76\u001b[0m cells with \u001b[34m6\u001b[0m dimensions...\n",
      "PCA explained variance:  \u001b[34m68\u001b[0m% \u001b[34m18\u001b[0m%\n",
      "Figure saved as \u001b[34mscatter_FrK_SL_byClone_PCA_TRBV4-1_CCAAGCCCTCGGGGGGGATAAT_TRBJ1-6_important.png\u001b[0m\n",
      "Figure saved as \u001b[34mbipartite_FrK_SL+clonal+TRBV4-1_CCAAGCCCTCGGGGGGGATAAT_TRBJ1-6.png\u001b[0m\n",
      "Figure saved as \u001b[34mbipartite_FrK_SL+rainbow+TRBV4-1_CCAAGCCCTCGGGGGGGATAAT_TRBJ1-6.png\u001b[0m\n",
      "QuantHeatmap is saved in \u001b[32m/home/pesho/repos/bioviz/out/20171025_14h42m04s_batches.FrKSE+FrKBL+FrKSL_DE.wilcox_limit_genes.1000_filt.(cells_in_well1)&(mapped>5K)_experiment.demo/heatmap/quantheatmap_FrK_SL_important(6)_TRBV4-1_CCAAGCCCTCGGGGGGGATAAT_TRBJ1-6_byClone.png\u001b[0m\n",
      "Figure saved as \u001b[34mvb_distr_FrK_SL.png\u001b[0m\n",
      "Writing \u001b[34m9\u001b[0m best genes for FrK_SL to genes_FrK_SL_TRBV4-1_CCAAGCCCTCGGGGGGGATAAT_TRBJ1-6.csv\n",
      "reading genes_FrK_SL_TRBV4-1_CCAAGCCCTCGGGGGGGATAAT_TRBJ1-6.csv...\n",
      "reading genes_FrK_SE_TRBV4-1_CCAAGCCCTCGGGGGGGATAAT_TRBJ1-6.csv...\n",
      "reading genes_FrK_BL_TRBV4-1_CCAAGCCCTCGGGGGGGATAAT_TRBJ1-6.csv...\n",
      "Uniting all gene files from \u001b[34m/home/pesho/repos/bioviz/out/20171025_14h42m04s_batches.FrKSE+FrKBL+FrKSL_DE.wilcox_limit_genes.1000_filt.(cells_in_well1)&(mapped>5K)_experiment.demo/genes\u001b[0m:\n",
      "  \u001b[34mgenes_FrK_SL_TRBV4-1_CCAAGCCCTCGGGGGGGATAAT_TRBJ1-6.csv\u001b[0m\n",
      "  \u001b[34mgenes_FrK_SE_TRBV4-1_CCAAGCCCTCGGGGGGGATAAT_TRBJ1-6.csv\u001b[0m\n",
      "  \u001b[34mgenes_FrK_BL_TRBV4-1_CCAAGCCCTCGGGGGGGATAAT_TRBJ1-6.csv\u001b[0m\n"
     ]
    },
    {
     "name": "stderr",
     "output_type": "stream",
     "text": [
      "/home/pesho/anaconda3/lib/python3.6/site-packages/matplotlib/colors.py:494: RuntimeWarning: invalid value encountered in less\n",
      "  cbook._putmask(xa, xa < 0.0, -1)\n"
     ]
    },
    {
     "name": "stdout",
     "output_type": "stream",
     "text": [
      "Writing genes_vs_samples table to \u001b[34mgenes_20171025_14h42m04s_batches.FrKSE+FrKBL+FrKSL_DE.wilcox_limit_genes.1000_filt.(cells_in_well1)&(mapped>5K).html\u001b[0m\n",
      "Writing genes_vs_samples table to \u001b[34mgenes_20171025_14h42m04s_batches.FrKSE+FrKBL+FrKSL_DE.wilcox_limit_genes.1000_filt.(cells_in_well1)&(mapped>5K).xlsx\u001b[0m\n",
      "\n",
      "\u001b[31m   ------- [PDF] --------\u001b[0m\n",
      "Make a copy of the notebook...\n",
      "Collect \u001b[34m18\u001b[0m images and stamp them...\n",
      "Merge all images to one PDF [\u001b[34mdemo_20171025_14h42m04s_batches.FrKSE+FrKBL+FrKSL_DE.wilcox_limit_genes.1000_filt.(cells_in_well1)&(mapped>5K).pdf\u001b[0m]...\n",
      "\u001b[31m   ------- [DONE] --------\u001b[0m\n"
     ]
    }
   ],
   "source": [
    "%reset -f\n",
    "%reload_ext autoreload\n",
    "%autoreload 2\n",
    "%matplotlib notebook\n",
    "\n",
    "from imports import *\n",
    "run.init(samples = [\n",
    "    ('FrK', 'SE', 'mustard yellow', 'TRBV4-1_CCAAGCCCTCGGGGGGGATAAT_TRBJ1-6'),\n",
    "    ('FrK', 'BL', 'purple',         'TRBV4-1_CCAAGCCCTCGGGGGGGATAAT_TRBJ1-6'),\n",
    "    \n",
    "    ('FrK', 'SL', 'dark orange',    'TRBV4-1_CCAAGCCCTCGGGGGGGATAAT_TRBJ1-6'),\n",
    "#    ('FrK', 'SL', 'dark orange',    'auto'),  # op\n",
    "],\n",
    "    \n",
    "    experiment = 'demo',\n",
    "    interactive = False,\n",
    "    nrows = 1000,\n",
    "    features = [ 'important' ],                                            # 'all', 10, 'important', \n",
    "    diffexprs = [ 'wilcox' ],                                               # 'ks'\n",
    "    run = {\n",
    "           'filt': { 'cells': '(cells_in_well == 1) & (mapped > 5K)' },\n",
    "           'normalize': 'byTotalSum',                                      # 'bySpikeIn'\n",
    "#           'combine_batches': [ 'pairs', ],                               # 'patient', 'all'\n",
    "           'scatter': { 'dim_reduct': [ 'MDS', 'PCA' ],                          # 't-SNE',\n",
    "                        'coloring': [ 'byClone' ],                       # 'bySample', 'bySampleAndClone'\n",
    "                      },\n",
    "#           'cross_validation':    True,\n",
    "           'geneintersect': True,\n",
    "           'bipartite':     [ 'clonal', 'rainbow' ],                                 # 'rainbow', 'sample',\n",
    "           'quantheatmap':  { 'coloring': [ 'byClone' ] },                 # 'bySample', 'bySampleAndClone'\n",
    "           'vb_distr':      True,\n",
    "#           'gsea': { 'geneset': 'human_all_collections_lymphocytes_sept2017.gmt' }, # 'geneset': 'c1.all.v6.0.symbols.gmt'\n",
    "    },\n",
    "    kernels = [ 'decision-tree', 'log-linear', 'rbf' ],   # 'linear', 'lin', 'poly'\n",
    "    Cs = [1e-5, 1e0, 1e5], gammas = [1e-5, 1e0, 1e5],\n",
    ")"
   ]
  },
  {
   "cell_type": "code",
   "execution_count": null,
   "metadata": {
    "collapsed": true
   },
   "outputs": [],
   "source": []
  }
 ],
 "metadata": {
  "kernelspec": {
   "display_name": "Python 3",
   "language": "python",
   "name": "python3"
  },
  "language_info": {
   "codemirror_mode": {
    "name": "ipython",
    "version": 3
   },
   "file_extension": ".py",
   "mimetype": "text/x-python",
   "name": "python",
   "nbconvert_exporter": "python",
   "pygments_lexer": "ipython3",
   "version": "3.6.0"
  },
  "widgets": {
   "state": {
    "4b291cd54c6a42d3abc392eb90e8f995": {
     "views": [
      {
       "cell_index": 5
      }
     ]
    }
   },
   "version": "1.2.0"
  }
 },
 "nbformat": 4,
 "nbformat_minor": 1
}
