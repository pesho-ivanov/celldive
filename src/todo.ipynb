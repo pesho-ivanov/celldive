{
 "cells": [
  {
   "cell_type": "markdown",
   "metadata": {},
   "source": [
    "# Docs\n",
    "\n",
    "#### NEWEST TODO\n",
    "- fully automatize clones\n",
    "- test the list of ~30 genes from batch1 (spreadsheet)\n",
    "- test the list of GSEA genes independently\n",
    "\n",
    "###### TODO (May 25, discussion with Echi)\n",
    "1. a bipartite graph for each sample of batch3 \n",
    "\n",
    "- ML looking for genes (labels needed); consider SE+SL clones as malignant (BV20-1 & AV26-1). ignore non-TCR-reconstructed. ignore the BL clone BV6-5. expression matrix viz;\n",
    "- TODO: clonality percetage (like dounuts in the fractal); tcr diversity: V-specific, J-specific... (like the fractal paper)\n",
    "- (later) new force graph: force ~ TCR similarity; nodes are TCRs\n",
    "- mutations: 3 papers about CTCL with specific genese; between malignant & healthy\n",
    "- gene expression matrix & dendrogram\n",
    "- validate with flow-cytometry\n",
    "\n",
    "##### Usage\n",
    "Input:\n",
    "  * Batch == directory. Directory structure:\n",
    "  * ...\n",
    "  * tags\n",
    "  * batch.print_stats()\n",
    "  * batch = Batch.from_file(root_dir, tag='WaG', color={'sample == \"BE\"': \"light brown\"})\n",
    "  * batch = Batch.from_file(root_dir, tag='B1', color='#731007')\n",
    "  \n",
    "Batch operations:\n",
    "  * cells subset selection by select_expr: '(sample != \"SL\") & (cells <= 1)'\n",
    "    * cells (int): by number of cells in a well\n",
    "    * sample (str): by sample tag\n",
    "    * reads (int): by number of reads (5M can be used instead of 5000000)\n",
    "  * TCR selection?\n",
    "  * subset:\n",
    "    * sampled_batch = batch.sample(5, tag='rand')\n",
    "    * head_batch = batch.head(10, tag='head')\n",
    "    * subset_batch = batch.subset()\n",
    "  * merge\n",
    "    * batch_all = Batch.concat(batch1, batch2, ..., tag='ALL')\n",
    "  * subbatch\n",
    "    * subbatch = batch.subbatch(['B1-1', 'B1-4'])\n",
    "\n",
    "TCRs:\n",
    "  * TODO: show reconstruction quality. proportion correlation between flow cytometry and reconstracted beta-genes. look at beta-genes expression\n",
    "  * TODO: TCR diversity (like the fractal paper)\n",
    "\n",
    "Quality control:\n",
    "  * batch3.qc.get_full('102')\n",
    "\n",
    "Color support:\n",
    "  * every cell has a color in its 'meta'\n",
    "  * by RGB code ('#ad8150')\n",
    "  * by XKCD name ('light brown'); list of colors: https://xkcd.com/color/rgb/\n",
    "  * API: batch.select_and_set_color({select_expr: color})\n",
    "\n",
    "Dimensionality reduction:\n",
    "  * PCA\n",
    "  * SNE\n",
    "\n",
    "Graphs:\n",
    "  * batch.draw() draws all plots\n",
    "  * dimreduct\n",
    "  * bipartite: TODO: coloring by cell color\n",
    "  * force graph\n",
    "  * each graph can be saved as .png\n",
    "\n",
    "Genes/transcripts:\n",
    "  * gene_db = GenomicsConvert.from_file(dirs.inp)\n",
    "  * gene_db.gname2gid('TRAJ27')\n",
    "  * gene_db.gid2gname('ENSG00000211862')\n",
    "\n",
    "Interactive:\n",
    "  * clicking on the cells on different graphs shows the cell name\n",
    "  * zooming and moving (using %matplotlib notebook)\n",
    "  * UI for drawing parametrization (SNE perplexity, selection expression, etc.) by ipywidgets\n",
    "  \n",
    "  \n",
    "  \n",
    "##### TODO: Enhancements\n",
    "* add tracer graphs\n",
    "* add multiqc graphs\n",
    "* add more selection options: for alpha and beta; more TCR info: length of reconstruction\n",
    "* add mappability to qc\n",
    "* use another TCR reconstruction\n",
    "\n",
    "##### TODO: New features\n",
    "* differential expression, gene list per patient-compartment-...\n",
    "* clonograms:\n",
    "  * clones represented by many plotted cells  +  circles around clones (Venn diagrams; force graphs); export svg/png/etc.\n",
    "  * bipartite graph: alpha & beta partitions\n",
    "* look for correct ordering of TCR -- research! edit distance?\n",
    "* add labels (eg. list of cells) under the graphs\n",
    "* colors in 3d stacks\n",
    "* add 3d rotation\n",
    "* dendrogram\n",
    "* design the input classes and specify the input file dir\n",
    "* clonograms: visualization of alphas and betas specifically\n",
    "* SNV calling and eeSNV, CNV calling\n",
    "* VJ gene heatmap: https://support.10xgenomics.com/single-cell-vdj/software/visualization/latest/what-is-loupe-vdj-browser\n",
    "\n",
    "##### TODO: infrastructure\n",
    "* use %matplotlib notebook\n",
    "* embed static widgets, http://ipywidgets.readthedocs.io/en/latest/embedding.html\n",
    "* jupyterhub\n",
    "* unittesting\n",
    "* parallelize\n",
    "* R, Julia in notebook\n",
    "* sort rows as numbers (low priority)\n",
    "* use altair for simpler graphs\n",
    "* qt console to the same kernel\n",
    "* use the logging module\n",
    "* pylint\n",
    "\n",
    "##### DONE\n",
    "* add fluidigm\n",
    "* batch merging with another batch; changing sample names"
   ]
  }
 ],
 "metadata": {
  "kernelspec": {
   "display_name": "Python 3",
   "language": "python",
   "name": "python3"
  },
  "language_info": {
   "codemirror_mode": {
    "name": "ipython",
    "version": 3
   },
   "file_extension": ".py",
   "mimetype": "text/x-python",
   "name": "python",
   "nbconvert_exporter": "python",
   "pygments_lexer": "ipython3",
   "version": "3.6.0"
  },
  "widgets": {
   "state": {
    "8d811d1d990c448588d075603e635c41": {
     "views": [
      {
       "cell_index": 2
      }
     ]
    },
    "993ec31df6cd4dd1bf882d076f04e443": {
     "views": [
      {
       "cell_index": 3
      }
     ]
    },
    "e4b844f6f22540b2bc9bc541da96630d": {
     "views": [
      {
       "cell_index": 4
      }
     ]
    }
   },
   "version": "1.2.0"
  }
 },
 "nbformat": 4,
 "nbformat_minor": 2
}
