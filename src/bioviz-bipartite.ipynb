{
 "cells": [
  {
   "cell_type": "code",
   "execution_count": null,
   "metadata": {
    "scrolled": false
   },
   "outputs": [],
   "source": [
    "#%%prun\n",
    "####  THIS CELL CLEARS THE STATE  ####\n",
    "#%load_ext line_profiler\n",
    "#%install_ext https://raw.github.com/cpcloud/ipython-autotime/master/autotime.py\n",
    "####%reset -f\n",
    "#%reload_ext autotime\n",
    "####%reload_ext autoreload\n",
    "####%autoreload 2\n",
    "####%matplotlib notebook\n",
    "#%load_ext memory_profiler\n",
    "\n",
    "from imports import *\n",
    "run.init(\n",
    "    conf = {\n",
    "            'samples': SchH_good, #SchH_all + WaG_all + FrK_all, #SchH_good + WaG_good + FrK_good, #None,  + FrK_good, # SchH_good + \n",
    "            'experiment': 'bipartite',\n",
    "            'notebook': 'bioviz-bipartite.ipynb',\n",
    "            'input_files': { 'expression_matrix': \"expressions.tsv\" },\n",
    "            'nrows': 10,\n",
    "            'features': [ 'all' ], #features = [10, 'important', 'all'],\n",
    "            'diffexprs': ['wilcox'], # 'ks'\n",
    "            'interactive': False,\n",
    "            'clonality_stats': True,\n",
    "\n",
    "           #'stats': True,\n",
    "           #'vb_distr':      1\n",
    "           'filt_cells': {\n",
    "               'cells': '(cells_in_well == 1)',\n",
    "           #    'expressed_genes': 1500,\n",
    "           },\n",
    "           #'filt_genes': {\n",
    "           #    'expression_threshold': 2.5,\n",
    "           #    'min_cells_expressing_gene': 15,\n",
    "           #},\n",
    "           #'filt': {'cells': '(cells_in_well == 1) & (mapped > 500K)'},\n",
    "           #'normalize': 'byTotalSum', # 'bySpikeIn'\n",
    "           #'combine_batches': ['patient'],   # ['patient', 'pairs', 'all'],\n",
    "           #'scatter': { 'dim_reduct': ['PCA'],     # 't-SNE', 'MDS', \"ZIFA\"\n",
    "           #             'coloring': ['byClone'],\n",
    "           #             'coloring': ['bySample', 'byClone', 'bySampleAndClone'],\n",
    "           #           },\n",
    "           #'classifier':    0,\n",
    "        \n",
    "        #   'geneintersect': True,\n",
    "           #'quantheatmap':  {'coloring': ['byClone']},\n",
    "        \n",
    "           #'quantheatmap':  {'coloring': ['bySample', 'byClone', 'bySampleAndClone']},\n",
    "           #'bipartite':     ['clonal', 'sample', 'rainbow'],\n",
    "           #'bipartite':     ['clonal'],      # ['clonal', 'sample', 'rainbow'],\n",
    "#           'gsea': {'geneset': 'human_all_collections_lymphocytes_sept2017.gmt'},\n",
    "           #'gsea': {'geneset': 'c1.all.v6.0.symbols.gmt'}, # 'gseaftp.broadinstitute.org://pub/gsea/gene_sets_final/c5.cc.v3.1.symbols.gmt'},\n",
    "            'kernels': ['decision-tree', 'log-linear', 'rbf'],   # ['linear', 'lin', 'poly', 'rbf'],\n",
    "            'Cs': [1],\n",
    "            'gammas': [1],\n",
    "    },\n",
    ")"
   ]
  },
  {
   "cell_type": "code",
   "execution_count": 27,
   "metadata": {},
   "outputs": [
    {
     "data": {
      "text/plain": [
       "0.32203731562206683"
      ]
     },
     "execution_count": 27,
     "metadata": {},
     "output_type": "execute_result"
    }
   ],
   "source": [
    "from scipy.stats import fisher_exact\n",
    "oddsratio, pvalue = fisher_exact([[85,189], [71,128]]) # [[52, 64], [36, 38]])\n",
    "pvalue"
   ]
  }
 ],
 "metadata": {
  "kernelspec": {
   "display_name": "Python 3",
   "language": "python",
   "name": "python3"
  },
  "language_info": {
   "codemirror_mode": {
    "name": "ipython",
    "version": 3
   },
   "file_extension": ".py",
   "mimetype": "text/x-python",
   "name": "python",
   "nbconvert_exporter": "python",
   "pygments_lexer": "ipython3",
   "version": "3.6.4"
  },
  "widgets": {
   "state": {
    "4b291cd54c6a42d3abc392eb90e8f995": {
     "views": [
      {
       "cell_index": 5
      }
     ]
    }
   },
   "version": "1.2.0"
  }
 },
 "nbformat": 4,
 "nbformat_minor": 2
}
