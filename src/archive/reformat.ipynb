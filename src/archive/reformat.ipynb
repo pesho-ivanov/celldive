{
 "cells": [
  {
   "cell_type": "code",
   "execution_count": 21,
   "metadata": {
    "collapsed": false
   },
   "outputs": [
    {
     "name": "stdout",
     "output_type": "stream",
     "text": [
      "The autotime extension is already loaded. To reload it, use:\n",
      "  %reload_ext autotime\n",
      "time: 1.41 ms\n"
     ]
    }
   ],
   "source": [
    "%load_ext autotime\n",
    "import os\n",
    "import pandas as pd\n",
    "import numpy as np"
   ]
  },
  {
   "cell_type": "code",
   "execution_count": 20,
   "metadata": {
    "collapsed": false
   },
   "outputs": [
    {
     "name": "stdout",
     "output_type": "stream",
     "text": [
      "173259\n",
      "time: 7.32 s\n"
     ]
    }
   ],
   "source": [
    "quant = pd.read_table('~/work/BioViz-gl/data/batch3/quant-gzip.csv', index_col=0, compression='gzip').sort_index(0).sort_index(1)\n",
    "print len(quant)"
   ]
  },
  {
   "cell_type": "code",
   "execution_count": 12,
   "metadata": {
    "collapsed": true
   },
   "outputs": [],
   "source": [
    "quant = pd.read_table('~/work/BioViz-gl/data/batch3/quant-gzip.csv', index_col=0, compression='gzip').sort_index(0).sort_index(1)\n",
    "quant_clear = quant.loc[(quant != 0).any(axis=1)]  # delete the zero-columns/non-expressed genes\n",
    "print len(quant)/1000, 'k --> ', len(quant_clear)/1000, 'k'\n",
    "#quant_clear.to_csv('~/work/BioViz/data/batch3/quant-clear.csv', sep='\\t')"
   ]
  },
  {
   "cell_type": "code",
   "execution_count": 15,
   "metadata": {
    "collapsed": false
   },
   "outputs": [
    {
     "name": "stdout",
     "output_type": "stream",
     "text": [
      "time: 15 ms\n"
     ]
    }
   ],
   "source": [
    "quant60 = quant_clear[:5].transpose()\n",
    "#print quant60\n",
    "quant60.to_csv('~/raw/batch3-quant-clear5.csv')\n",
    "#quant_clear.to_csv('~/work/BioViz/data/batch3/quant-cleargzip.csv', sep='\\t', compression='gzip')"
   ]
  },
  {
   "cell_type": "code",
   "execution_count": 29,
   "metadata": {
    "collapsed": false
   },
   "outputs": [
    {
     "name": "stdout",
     "output_type": "stream",
     "text": [
      "173 k -->  105 k\n",
      "time: 1.59 s\n"
     ]
    }
   ],
   "source": [
    "quant_clear = quant.loc[(quant >=10 ).any(axis=1)]  # delete the zero-columns/non-expressed genes\n",
    "print len(quant)/1000, 'k --> ', len(quant_clear)/1000, 'k'"
   ]
  },
  {
   "cell_type": "code",
   "execution_count": 33,
   "metadata": {
    "collapsed": false
   },
   "outputs": [
    {
     "name": "stdout",
     "output_type": "stream",
     "text": [
      "time: 1.03 ms\n"
     ]
    }
   ],
   "source": [
    "#quant.to_csv('~/work/BioViz/data/batch3/quant-copy.csv', sep='\\t')\n",
    "#print quant_clear"
   ]
  },
  {
   "cell_type": "code",
   "execution_count": 36,
   "metadata": {
    "collapsed": false
   },
   "outputs": [
    {
     "name": "stdout",
     "output_type": "stream",
     "text": [
      "time: 1min 9s\n"
     ]
    }
   ],
   "source": [
    "quant_copy = pd.read_table('~/work/BioViz/data/batch3/quant-copy.csv', index_col=0).sort_index(0).sort_index(1)\n",
    "quant_copy.to_csv('~/work/BioViz/data/batch3/quant-copy-gzip.csv', sep='\\t', compression='gzip')"
   ]
  },
  {
   "cell_type": "code",
   "execution_count": 17,
   "metadata": {
    "collapsed": false
   },
   "outputs": [
    {
     "name": "stdout",
     "output_type": "stream",
     "text": [
      "time: 2.31 ms\n"
     ]
    }
   ],
   "source": [
    "#quant_copy_gzip = pd.read_table('~/work/BioViz/data/batch3/quant-copy-gzip.csv', index_col=0)#, compression='gzip')\n",
    "#print quant_copy_gzip"
   ]
  },
  {
   "cell_type": "code",
   "execution_count": null,
   "metadata": {
    "collapsed": true
   },
   "outputs": [],
   "source": [
    "def draw_bokeh(points, meta, name, edges):\n",
    "    X = points['x']\n",
    "    Y = points['y']\n",
    "    title = name + ' over ' + str(len(points)) + ' cells'\n",
    "    colormap = { 'BE': '#ff9999', 'BL': '#ff3236', 'SE': '#ffde99', 'SL': '#ffc132' }\n",
    "    #colormap = {'BE': 'pink', 'BL': 'red', 'SE': 'yellow', 'SL': 'orange'}\n",
    "    colors = [colormap[x] for x in meta['sample']]\n",
    "    data = dict(x=X, y=Y, text=list(meta.index), color=colors)\n",
    "    source = ColumnDataSource(data=data)\n",
    "    p = figure(title=title)\n",
    "    if len(edges) > 0:\n",
    "        x0, y0, x1, y1, recombs = zip(*edges)\n",
    "        col = [ '#fc0521' if r.startswith('TRA') else '#0578fc' for r in recombs]\n",
    "        p.segment(x0, y0, x1, y1, color=col, line_alpha=0.3)\n",
    "    s = p.scatter(x='x', y='y', size=10, fill_alpha=0.6, color='color', source=source)\n",
    "    # Labels\n",
    "    #labels = LabelSet(x='x', y='y', text='text', x_offset=5, y_offset=5, source=source)\n",
    "    #p.add_layout(labels)\n",
    "    \n",
    "    #p.add_tools(HoverTool(renderers=[s], tooltips=TIPS))\n",
    "    #p.select(dict(type=HoverTool)).tooltips = {\"x\":\"$x\", \"y\":\"$y\"}\n",
    "    #hover = p.select(dict(type=HoverTool))\n",
    "    #hover.tooltips = OrderedDict([\n",
    "    #    (\"index\", \"$index\"),\n",
    "    #    (\"(xx,yy)\", \"(@x, @y)\"),\n",
    "    #    (\"label\", \"@label\"),\n",
    "    #])\n",
    "    show(p)"
   ]
  },
  {
   "cell_type": "code",
   "execution_count": null,
   "metadata": {
    "collapsed": true
   },
   "outputs": [],
   "source": [
    "    #labels = ['point {0}'.format(i + 1) for i in range(len(points))]\n",
    "    #tooltip = plugins.PointLabelTooltip(scatter, labels)\n",
    "    #mpld3.plugins.connect(fig2, tooltip)\n",
    "    #mpld3.display()\n",
    "    \n",
    "    # D3\n",
    "    #ax.set_title(\"D3 Scatter Plot (with tooltips!)\", size=20)\n",
    "    \n",
    "    #fig.plugins = [plugins.PointLabelTooltip(scatter, labels)]"
   ]
  },
  {
   "cell_type": "code",
   "execution_count": 19,
   "metadata": {
    "collapsed": false
   },
   "outputs": [
    {
     "ename": "NameError",
     "evalue": "name 'meta' is not defined",
     "output_type": "error",
     "traceback": [
      "\u001b[0;31m---------------------------------------------------------------------------\u001b[0m",
      "\u001b[0;31mNameError\u001b[0m                                 Traceback (most recent call last)",
      "\u001b[0;32m<ipython-input-19-8401fd27b151>\u001b[0m in \u001b[0;36m<module>\u001b[0;34m()\u001b[0m\n\u001b[0;32m----> 1\u001b[0;31m \u001b[0;32mprint\u001b[0m \u001b[0mmeta\u001b[0m\u001b[0;34m[\u001b[0m\u001b[0;34m'samples'\u001b[0m\u001b[0;34m]\u001b[0m\u001b[0;34m\u001b[0m\u001b[0m\n\u001b[0m",
      "\u001b[0;31mNameError\u001b[0m: name 'meta' is not defined"
     ]
    },
    {
     "name": "stdout",
     "output_type": "stream",
     "text": [
      "time: 8.92 ms\n"
     ]
    }
   ],
   "source": [
    "print meta['samples']"
   ]
  },
  {
   "cell_type": "code",
   "execution_count": 13,
   "metadata": {
    "collapsed": true
   },
   "outputs": [],
   "source": [
    "import scipy\n",
    "import pylab\n",
    "import scipy.cluster.hierarchy as sch\n",
    "import seaborn as sns\n",
    "%matplotlib inline\n",
    "sns.set()"
   ]
  },
  {
   "cell_type": "code",
   "execution_count": 17,
   "metadata": {
    "collapsed": true
   },
   "outputs": [],
   "source": [
    "#print subquant\n",
    "a = [1,2,2,2,3,4,4,6,7]\n",
    "#\n",
    "#dendroplot(quant.as_matrix())"
   ]
  },
  {
   "cell_type": "code",
   "execution_count": 18,
   "metadata": {
    "collapsed": false
   },
   "outputs": [
    {
     "data": {
      "image/png": "[encoded data removed]",
      "text/plain": [
       "<matplotlib.figure.Figure at 0x7f652d074450>"
      ]
     },
     "metadata": {},
     "output_type": "display_data"
    }
   ],
   "source": [
    "sns.distplot(a, kde=False, rug=True);"
   ]
  },
  {
   "cell_type": "code",
   "execution_count": null,
   "metadata": {
    "collapsed": true
   },
   "outputs": [],
   "source": [
    "#fig, ax = plt.subplots(subplot_kw=dict(axisbg='#EEEEEE'))\n",
    "#ax.grid(color='white', linestyle='solid')\n",
    "#N = 50\n",
    "#scatter = ax.scatter(np.random.normal(size=N),\n",
    "#                     np.random.normal(size=N),\n",
    "#                     c=np.random.random(size=N),\n",
    "#                     s = 1000 * np.random.random(size=N),\n",
    "#                     alpha=0.3,\n",
    "#                     cmap=plt.cm.jet)\n",
    "#ax.set_title(\"D3 Scatter Plot (with tooltips!)\", size=20)\n",
    "#labels = ['point {0}'.format(i + 1) for i in range(N)]\n",
    "#tooltip = plugins.PointLabelTooltip(scatter, labels)\n",
    "#mpld3.plugins.connect(fig, tooltip)\n",
    "#mpld3.display()"
   ]
  },
  {
   "cell_type": "code",
   "execution_count": 26,
   "metadata": {
    "collapsed": false
   },
   "outputs": [
    {
     "name": "stdout",
     "output_type": "stream",
     "text": [
      "2.8.3\n"
     ]
    },
    {
     "ename": "AttributeError",
     "evalue": "'module' object has no attribute 'tests'",
     "output_type": "error",
     "traceback": [
      "\u001b[0;31m---------------------------------------------------------------------------\u001b[0m",
      "\u001b[0;31mAttributeError\u001b[0m                            Traceback (most recent call last)",
      "\u001b[0;32m<ipython-input-26-38209449c6c6>\u001b[0m in \u001b[0;36m<module>\u001b[0;34m()\u001b[0m\n\u001b[1;32m      6\u001b[0m \u001b[0;31m# the verbosity level can be increased if needed\u001b[0m\u001b[0;34m\u001b[0m\u001b[0;34m\u001b[0m\u001b[0m\n\u001b[1;32m      7\u001b[0m \u001b[0mtr\u001b[0m \u001b[0;34m=\u001b[0m \u001b[0munittest\u001b[0m\u001b[0;34m.\u001b[0m\u001b[0mTextTestRunner\u001b[0m\u001b[0;34m(\u001b[0m\u001b[0mverbosity\u001b[0m \u001b[0;34m=\u001b[0m \u001b[0;36m1\u001b[0m\u001b[0;34m)\u001b[0m\u001b[0;34m\u001b[0m\u001b[0m\n\u001b[0;32m----> 8\u001b[0;31m \u001b[0msuite\u001b[0m \u001b[0;34m=\u001b[0m \u001b[0mrpy2\u001b[0m\u001b[0;34m.\u001b[0m\u001b[0mtests\u001b[0m\u001b[0;34m.\u001b[0m\u001b[0msuite\u001b[0m\u001b[0;34m(\u001b[0m\u001b[0;34m)\u001b[0m\u001b[0;34m\u001b[0m\u001b[0m\n\u001b[0m\u001b[1;32m      9\u001b[0m \u001b[0mtr\u001b[0m\u001b[0;34m.\u001b[0m\u001b[0mrun\u001b[0m\u001b[0;34m(\u001b[0m\u001b[0msuite\u001b[0m\u001b[0;34m)\u001b[0m\u001b[0;34m\u001b[0m\u001b[0m\n",
      "\u001b[0;31mAttributeError\u001b[0m: 'module' object has no attribute 'tests'"
     ]
    }
   ],
   "source": [
    "import rpy2\n",
    "print(rpy2.__version__)\n",
    "\n",
    "import unittest\n",
    "\n",
    "# the verbosity level can be increased if needed\n",
    "tr = unittest.TextTestRunner(verbosity = 1)\n",
    "suite = rpy2.tests.suite()\n",
    "tr.run(suite)"
   ]
  },
  {
   "cell_type": "code",
   "execution_count": 22,
   "metadata": {
    "collapsed": false
   },
   "outputs": [
    {
     "ename": "NameError",
     "evalue": "name 'r' is not defined",
     "output_type": "error",
     "traceback": [
      "\u001b[0;31m---------------------------------------------------------------------------\u001b[0m",
      "\u001b[0;31mNameError\u001b[0m                                 Traceback (most recent call last)",
      "\u001b[0;32m<ipython-input-22-d3d9424f1e2a>\u001b[0m in \u001b[0;36m<module>\u001b[0;34m()\u001b[0m\n\u001b[1;32m      1\u001b[0m \u001b[0;32mfrom\u001b[0m \u001b[0mrpy2\u001b[0m \u001b[0;32mimport\u001b[0m \u001b[0;34m*\u001b[0m\u001b[0;34m\u001b[0m\u001b[0m\n\u001b[1;32m      2\u001b[0m \u001b[0;31m#set_default_mode(NO_CONVERSION)\u001b[0m\u001b[0;34m\u001b[0m\u001b[0;34m\u001b[0m\u001b[0m\n\u001b[0;32m----> 3\u001b[0;31m \u001b[0mr\u001b[0m\u001b[0;34m.\u001b[0m\u001b[0mlibrary\u001b[0m\u001b[0;34m(\u001b[0m\u001b[0;34m\"ALL\"\u001b[0m\u001b[0;34m)\u001b[0m\u001b[0;34m\u001b[0m\u001b[0m\n\u001b[0m\u001b[1;32m      4\u001b[0m \u001b[0mr\u001b[0m\u001b[0;34m.\u001b[0m\u001b[0mdata\u001b[0m\u001b[0;34m(\u001b[0m\u001b[0;34m\"ALL\"\u001b[0m\u001b[0;34m)\u001b[0m\u001b[0;34m\u001b[0m\u001b[0m\n\u001b[1;32m      5\u001b[0m \u001b[0mr\u001b[0m\u001b[0;34m(\u001b[0m\u001b[0;34m'eset <- ALL[, ALL$mol.biol %in% c(\"BCR/ABL\", \"ALL1/AF4\")]'\u001b[0m\u001b[0;34m)\u001b[0m\u001b[0;34m\u001b[0m\u001b[0m\n",
      "\u001b[0;31mNameError\u001b[0m: name 'r' is not defined"
     ]
    }
   ],
   "source": [
    "from rpy2 import *\n",
    "#set_default_mode(NO_CONVERSION)\n",
    "r.library(\"ALL\")\n",
    "r.data(\"ALL\")\n",
    "r('eset <- ALL[, ALL$mol.biol %in% c(\"BCR/ABL\", \"ALL1/AF4\")]')\n",
    "r.library(\"limma\")\n",
    "r('f <- factor(as.character(eset$mol.biol))')\n",
    "r('design <- model.matrix(~f)')\n",
    "r('fit <- eBayes(lmFit(eset,design))')\n",
    "r('selected  <- p.adjust(fit$p.value[, 2]) < 0.05')\n",
    "r('esetSel <- eset [selected, ]')\n",
    "rpy_exprs = r('exprs(esetSel)')\n",
    "\n",
    "def patient_colour(mol_biol) :\n",
    "    if mol_biol == \"ALL1/AF4\" :\n",
    "        return \"#FF0000\" # Red\n",
    "    else :\n",
    "        return \"#0000FF\" # Blue\n",
    "#Get r('esetSel$mol.biol') as a python list...\n",
    "set_default_mode(BASIC_CONVERSION)\n",
    "patient_colours = map(patient_colour, r('esetSel$mol.biol'))\n",
    "\n",
    "r.heatmap(rpy_exprs,\n",
    "          cexRow=0.5,\n",
    "          ColSideColors = patient_colours,\n",
    "          col = r.topo_colors(50))"
   ]
  },
  {
   "cell_type": "code",
   "execution_count": null,
   "metadata": {
    "collapsed": true
   },
   "outputs": [],
   "source": []
  }
 ],
 "metadata": {
  "kernelspec": {
   "display_name": "Python 2",
   "language": "python",
   "name": "python2"
  },
  "language_info": {
   "codemirror_mode": {
    "name": "ipython",
    "version": 2
   },
   "file_extension": ".py",
   "mimetype": "text/x-python",
   "name": "python",
   "nbconvert_exporter": "python",
   "pygments_lexer": "ipython2",
   "version": "2.7.6"
  }
 },
 "nbformat": 4,
 "nbformat_minor": 1
}
