{
 "cells": [
  {
   "cell_type": "markdown",
   "metadata": {},
   "source": [
    "## Experimental"
   ]
  },
  {
   "cell_type": "code",
   "execution_count": null,
   "metadata": {
    "collapsed": true
   },
   "outputs": [],
   "source": [
    "from plotly.plotly import iplot\n",
    "from plotly.graph_objs import Scatter3d, Data, Marker\n",
    "\n",
    "def getSne3D(X):\n",
    "    sne = TSNE(n_components=3, random_state=0)\n",
    "    return pd.DataFrame(sne.fit_transform(X), index=X.index, columns=['x', 'y', 'z'])\n",
    "\n",
    "def getPca3D(X):\n",
    "    pca = PCA(n_components=3).fit(X)\n",
    "    perc = map(lambda x: str(int(x*100))+'%', pca.explained_variance_ratio_)\n",
    "    \n",
    "    #print \"components: \", pca.components_\n",
    "    print \"explained variance: \", \" \".join(perc)\n",
    "    \n",
    "    return pd.DataFrame(pca.transform(X), index=X.index, columns=['x', 'y', 'z'])"
   ]
  },
  {
   "cell_type": "code",
   "execution_count": null,
   "metadata": {
    "collapsed": true
   },
   "outputs": [],
   "source": [
    "sne3d = getSne3D(scQuant)\n",
    "pca3d = getPca3D(scQuant)"
   ]
  },
  {
   "cell_type": "code",
   "execution_count": null,
   "metadata": {
    "collapsed": true
   },
   "outputs": [],
   "source": [
    "# Interactive 3D PCA: https://plot.ly/~pesho/90/ \n",
    "colormap = { 'BE': '#ff9999', 'BL': '#ff3236', 'SE': '#ffde99', 'SL': '#ffc132' }\n",
    "colors = [colormap[x] for x in meta['sample']]\n",
    "marker = dict(size=6, color=colors, opacity=0.4)\n",
    "trace0 = Scatter3d(x=pca3d['x'], y=pca3d['y'], z=pca3d['z'], marker=marker, mode='markers')\n",
    "data = Data([trace0])\n",
    "iplot(data, filename = 'pca-cloud')"
   ]
  },
  {
   "cell_type": "code",
   "execution_count": null,
   "metadata": {
    "collapsed": true
   },
   "outputs": [],
   "source": [
    "# Interactive 3D t-SNE: https://plot.ly/~pesho/96/\n",
    "colormap = { 'BE': '#ff9999', 'BL': '#ff3236', 'SE': '#ffde99', 'SL': '#ffc132' }\n",
    "colors = [colormap[x] for x in meta['sample']]\n",
    "marker = dict(size=8, color=colors, opacity=0.4)\n",
    "trace0 = Scatter3d(x=sne3d['x'], y=sne3d['y'], z=sne3d['z'], marker=marker, mode='markers')\n",
    "data = Data([trace0])\n",
    "iplot(data, filename = 'tne-3d')"
   ]
  },
  {
   "cell_type": "code",
   "execution_count": null,
   "metadata": {
    "collapsed": true
   },
   "outputs": [],
   "source": [
    "# selects a subset of the cells given the function func\n",
    "def select(quant, meta, func):\n",
    "    return quant[ [ func(meta.loc[cell]) for cell in meta.index ] ]\n",
    "\n",
    "SLquant = select(quant, meta, lambda m: m['sample'] == 'SL')\n",
    "\n",
    "sne_sl = getDimReduct2D(SLquant, 'SNE')\n",
    "processAndDraw2D(sne_sl, meta, 't-SNE')\n",
    "#subset = meta[meta['sample']=='SL'].index\n",
    "#print subset\n",
    "pca_sl = getDimReduct2D(SLquant, 'PCA')\n",
    "processAndDraw2D(pca_sl, meta, 'PCA')"
   ]
  },
  {
   "cell_type": "code",
   "execution_count": null,
   "metadata": {
    "collapsed": true
   },
   "outputs": [],
   "source": [
    "from plotly.plotly import iplot\n",
    "from plotly.graph_objs import Scatter3d, Data, Marker\n",
    "\n",
    "def getSne3D(X):\n",
    "    sne = TSNE(n_components=3, random_state=0)\n",
    "    return pd.DataFrame(sne.fit_transform(X), index=X.index, columns=['x', 'y', 'z'])\n",
    "\n",
    "def getPca3D(X):\n",
    "    pca = PCA(n_components=3).fit(X)\n",
    "    perc = map(lambda x: str(int(x*100))+'%', pca.explained_variance_ratio_)\n",
    "    \n",
    "    #print \"components: \", pca.components_\n",
    "    print(\"explained variance: \", \" \".join(perc))\n",
    "    \n",
    "    return pd.DataFrame(pca.transform(X), index=X.index, columns=['x', 'y', 'z'])\n",
    "\n",
    "sne3d = getSne3D(scQuant)\n",
    "pca3d = getPca3D(scQuant)\n",
    "\n",
    "# Interactive 3D PCA: https://plot.ly/~pesho/90/ \n",
    "colormap = { 'BE': '#ff9999', 'BL': '#ff3236', 'SE': '#ffde99', 'SL': '#ffc132' }\n",
    "colors = [colormap[x] for x in meta['sample']]\n",
    "marker = dict(size=6, color=colors, opacity=0.4)\n",
    "trace0 = Scatter3d(x=pca3d['x'], y=pca3d['y'], z=pca3d['z'], marker=marker, mode='markers')\n",
    "data = Data([trace0])\n",
    "iplot(data, filename = 'pca-cloud'\n",
    "      \n",
    "# Interactive 3D t-SNE: https://plot.ly/~pesho/96/\n",
    "colormap = { 'BE': '#ff9999', 'BL': '#ff3236', 'SE': '#ffde99', 'SL': '#ffc132' }\n",
    "colors = [colormap[x] for x in meta['sample']]\n",
    "marker = dict(size=8, color=colors, opacity=0.4)\n",
    "trace0 = Scatter3d(x=sne3d['x'], y=sne3d['y'], z=sne3d['z'], marker=marker, mode='markers')\n",
    "data = Data([trace0])\n",
    "iplot(data, filename = 'tne-3d')"
   ]
  },
  {
   "cell_type": "code",
   "execution_count": null,
   "metadata": {
    "collapsed": true
   },
   "outputs": [],
   "source": [
    "import pandas as pd\n",
    "import seaborn as sns\n",
    "import warnings\n",
    "sns.set(font=\"monospace\")\n",
    "warnings.filterwarnings(\"ignore\", category=UserWarning)\n",
    "\n",
    "def draw_clustermap(df):\n",
    "    # Load the brain networks example dataset\n",
    "    df = sns.load_dataset(\"brain_networks\", header=[0, 1, 2], index_col=0)\n",
    "    print (df[1:5])\n",
    "\n",
    "    # Select a subset of the networks\n",
    "    used_networks = [1, 5, 6, 7, 8, 11, 12, 13, 16, 17]\n",
    "    used_columns = (df.columns.get_level_values(\"network\")\n",
    "                              .astype(int)\n",
    "                              .isin(used_networks))\n",
    "    df = df.loc[:, used_columns]\n",
    "    draw_clustermap(df)\n",
    "    \n",
    "    # Create a custom palette to identify the networks\n",
    "    network_pal = sns.cubehelix_palette(len(used_networks),\n",
    "                                        light=.9, dark=.1, reverse=True,\n",
    "                                        start=1, rot=-2)\n",
    "    network_lut = dict(zip(map(str, used_networks), network_pal))\n",
    "\n",
    "    # Convert the palette to vectors that will be drawn on the side of the matrix\n",
    "    networks = df.columns.get_level_values(\"network\")\n",
    "    print (networks)\n",
    "    network_colors = pd.Series(networks, index=df.columns).map(network_lut)\n",
    "    print (network_colors)\n",
    "\n",
    "    # Create a custom colormap for the heatmap values\n",
    "    cmap = sns.diverging_palette(h_neg=210, h_pos=350, s=90, l=30, as_cmap=True)\n",
    "\n",
    "    # Draw the full plot\n",
    "    sns.clustermap(df.corr(), row_colors=network_colors, linewidths=.5,\n",
    "                   col_colors=network_colors, figsize=(13, 13), cmap=cmap);\n",
    "    \n",
    "g = sns.clustermap(subquant)"
   ]
  }
 ],
 "metadata": {
  "kernelspec": {
   "display_name": "Python 2",
   "language": "python",
   "name": "python2"
  },
  "language_info": {
   "codemirror_mode": {
    "name": "ipython",
    "version": 2
   },
   "file_extension": ".py",
   "mimetype": "text/x-python",
   "name": "python",
   "nbconvert_exporter": "python",
   "pygments_lexer": "ipython2",
   "version": "2.7.6"
  }
 },
 "nbformat": 4,
 "nbformat_minor": 1
}
